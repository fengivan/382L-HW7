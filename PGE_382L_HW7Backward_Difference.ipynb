{
  "nbformat": 4,
  "nbformat_minor": 0,
  "metadata": {
    "colab": {
      "name": "PGE 382L HW7Backward Difference.ipynb",
      "provenance": [],
      "collapsed_sections": []
    },
    "kernelspec": {
      "name": "python3",
      "display_name": "Python 3"
    },
    "language_info": {
      "name": "python"
    }
  },
  "cells": [
    {
      "cell_type": "code",
      "metadata": {
        "id": "EoQWYr2cZs9m"
      },
      "source": [
        "import sys\n",
        "import numpy as np\n",
        "import math\n",
        "import matplotlib.pyplot as plt\n",
        "import scipy as sc\n",
        "np.set_printoptions(threshold=sys.maxsize)\n",
        "np.set_printoptions(linewidth=100000)\n",
        "plt.rcParams['figure.figsize'] = [3, 3]"
      ],
      "execution_count": 86,
      "outputs": []
    },
    {
      "cell_type": "code",
      "metadata": {
        "id": "nf1Kz7IwLYu7"
      },
      "source": [
        "def U(a):    #get 3D matrix for U at timestep a\n",
        "  delta=.125\n",
        "  u=np.zeros((9,9,9))\n",
        "  for x in range(0,9):\n",
        "    for y in range(0,9):\n",
        "      for z in range(0,9):\n",
        "        u[x,y,z]= getU(x,y,z,a)\n",
        "  return u\n",
        "\n",
        "def getU(i, j, k, n):  #get U at index i,j,k, timestep n\n",
        "  delta=.125\n",
        "  deltat=.01\n",
        "  return 1/(1+math.exp(i*delta+j*delta+k*delta-3*n*deltat/2))\n",
        "\n",
        "def get(matrix, index):  #gets the value of matrix at index, index is an array for [i,j,k]\n",
        "    try:\n",
        "        return matrix[index[0]][index[1]][index[2]]\n",
        "    except IndexError:\n",
        "        return 0\n",
        "\n",
        "def convertarray():      #returns an array to convert row/column to [i,j,k]\n",
        "  out=np.zeros((343,3))\n",
        "  out[0]=[1,1,1]\n",
        "  for i in range(1, 343):\n",
        "    out[i]=out[i-1]\n",
        "    if out[i][2]<7:\n",
        "      out[i][2]+=1\n",
        "    elif out[i][1]<7:\n",
        "      out[i][1]+=1\n",
        "      out[i][2]=1\n",
        "    else:\n",
        "      out[i][0]+=1\n",
        "      out[i][1]=1\n",
        "      out[i][2]=1\n",
        "  return out.astype(int)\n",
        "\n",
        "def enforceboundry(matrix, n):    #enforces boundry conditions at timestep n for matrix \n",
        "  for i in range(0,9):\n",
        "    for j in range(0,9):\n",
        "      for k in range(0,9):\n",
        "        if i ==0 or j ==0 or k ==0 or i ==8 or j ==8 or k ==8:\n",
        "          matrix[i][j][k]=getU(i,j,k,n)\n",
        "  return matrix"
      ],
      "execution_count": 87,
      "outputs": []
    },
    {
      "cell_type": "code",
      "metadata": {
        "id": "VxqOtc50_Mku"
      },
      "source": [
        "def buildJacobian(u, uprev):  #build the Jacbobian matrix and b vector using u and uprev(previous timestep)\n",
        "  out=convertarray()\n",
        "  deltat=.01\n",
        "  deltax=.125\n",
        "  A=np.zeros((343, 343))\n",
        "  B=np.zeros((343))\n",
        "  for i in range(0, 343):\n",
        "    a=get(u, out[i]+[1,0,0])\n",
        "    b=get(u, out[i])\n",
        "    c=get(u, out[i]+[-1,0,0])\n",
        "    d=get(u, out[i]+[0,1,0])\n",
        "    e=get(u, out[i]+[0,-1,0])\n",
        "    f=get(u, out[i]+[0,0,1])\n",
        "    g=get(u, out[i]+[0,0,-1])\n",
        "    prev=get(uprev, out[i])\n",
        "    A[i][i]=-1/deltat-6*b/deltax+(c+e+g)/deltax-3/deltax**2\n",
        "    if (i+7<343):\n",
        "      A[i][i+7]= .5/deltax**2   #d\n",
        "      A[i+7][i]=b/deltax+.5/deltax**2   #e\n",
        "    if (i+28<343):\n",
        "      A[i][i+28]=.5/deltax**2  #a\n",
        "      A[i+28][i]=b/deltax+.5/deltax**2   #c\n",
        "    if (i+1<343):\n",
        "      A[i][i+1]=.5/deltax**2  #f\n",
        "      A[i+1][i]=b/deltax+.5/deltax**2  #g\n",
        "    \n",
        "    B[i] = .5*(a+c+d+e+f+g-6*b)/(deltax**2)-b*(3*b-c-e-g)/(deltax)-b/deltat+ prev/deltat\n",
        "  return A, B"
      ],
      "execution_count": 88,
      "outputs": []
    },
    {
      "cell_type": "code",
      "metadata": {
        "id": "ENg2mzCy1ijN"
      },
      "source": [
        "def iterate(guess):     #iterates, solving jacobian*delta=b for delta, and subtracts delta from U. repeates up to 50 iterations, or until norm is <10^-10\n",
        "  out=np.copy(guess)\n",
        "  prev=np.copy(guess)\n",
        "  convert=convertarray()\n",
        "  for i in range(0,100):\n",
        "    A, B=buildJacobian(out, prev)\n",
        "    deltas=np.linalg.solve(A,B)\n",
        "    for z in range(0, len(deltas)):\n",
        "      out[convert[z][0]][convert[z][1]][convert[z][2]]-=deltas[z]\n",
        "    if (np.linalg.norm(deltas)<10**-10):\n",
        "      break\n",
        "  return out    "
      ],
      "execution_count": 89,
      "outputs": []
    },
    {
      "cell_type": "code",
      "metadata": {
        "colab": {
          "base_uri": "https://localhost:8080/"
        },
        "id": "JKTak3ds-SYg",
        "outputId": "e997f116-b487-4070-9c6d-45b138bd325b"
      },
      "source": [
        "time=0      #start at time =0\n",
        "deltat=.01\n",
        "init=U(0)   #set initial conditions\n",
        "next=enforceboundry(init, 1)  \n",
        "for i in range(0, 25):\n",
        "  next=enforceboundry(next, i+1)#enforce the boundry at time i+1\n",
        "  next=iterate(next)#iterate to solve for U at i+1\n",
        "  time=time+deltat   #increment time\n",
        "print(time)   #check tf is .25\n",
        "\n"
      ],
      "execution_count": 90,
      "outputs": [
        {
          "output_type": "stream",
          "text": [
            "0.25000000000000006\n"
          ],
          "name": "stdout"
        }
      ]
    },
    {
      "cell_type": "code",
      "metadata": {
        "colab": {
          "base_uri": "https://localhost:8080/",
          "height": 1000
        },
        "id": "8uIXvXjpQ8ec",
        "outputId": "58d1c54a-86a7-4707-f429-fbcd4d4d93fe"
      },
      "source": [
        "error = (next-U(25))*100/U(25)   #percent error = 100*(final solution at t=.25 - exact solution) /exact solution\n",
        "print(np.linalg.norm(error)) #print norm of error\n",
        "\n",
        "for i in range(0,9):        #plot error at all 9 xnodes for visualization\n",
        "  print(\"Percent Error at x node \"+str(i))\n",
        "  plt.imshow(error[i])        #plot error\n",
        "  plt.colorbar()\n",
        "  plt.clim(0, np.max(error)) \n",
        "  plt.gca().invert_yaxis()\n",
        "  plt.show()\n",
        "  print()\n"
      ],
      "execution_count": 93,
      "outputs": [
        {
          "output_type": "stream",
          "text": [
            "2.1009136244484465\n",
            "Percent Error at x node 0\n"
          ],
          "name": "stdout"
        },
        {
          "output_type": "display_data",
          "data": {
            "image/png": "[encoded data removed]",
            "text/plain": [
              "<Figure size 216x216 with 2 Axes>"
            ]
          },
          "metadata": {
            "tags": [],
            "needs_background": "light"
          }
        },
        {
          "output_type": "stream",
          "text": [
            "\n",
            "Percent Error at x node 1\n"
          ],
          "name": "stdout"
        },
        {
          "output_type": "display_data",
          "data": {
            "image/png": "[encoded data removed]",
            "text/plain": [
              "<Figure size 216x216 with 2 Axes>"
            ]
          },
          "metadata": {
            "tags": [],
            "needs_background": "light"
          }
        },
        {
          "output_type": "stream",
          "text": [
            "\n",
            "Percent Error at x node 2\n"
          ],
          "name": "stdout"
        },
        {
          "output_type": "display_data",
          "data": {
            "image/png": "[encoded data removed]",
            "text/plain": [
              "<Figure size 216x216 with 2 Axes>"
            ]
          },
          "metadata": {
            "tags": [],
            "needs_background": "light"
          }
        },
        {
          "output_type": "stream",
          "text": [
            "\n",
            "Percent Error at x node 3\n"
          ],
          "name": "stdout"
        },
        {
          "output_type": "display_data",
          "data": {
            "image/png": "[encoded data removed]",
            "text/plain": [
              "<Figure size 216x216 with 2 Axes>"
            ]
          },
          "metadata": {
            "tags": [],
            "needs_background": "light"
          }
        },
        {
          "output_type": "stream",
          "text": [
            "\n",
            "Percent Error at x node 4\n"
          ],
          "name": "stdout"
        },
        {
          "output_type": "display_data",
          "data": {
            "image/png": "[encoded data removed]",
            "text/plain": [
              "<Figure size 216x216 with 2 Axes>"
            ]
          },
          "metadata": {
            "tags": [],
            "needs_background": "light"
          }
        },
        {
          "output_type": "stream",
          "text": [
            "\n",
            "Percent Error at x node 5\n"
          ],
          "name": "stdout"
        },
        {
          "output_type": "display_data",
          "data": {
            "image/png": "[encoded data removed]",
            "text/plain": [
              "<Figure size 216x216 with 2 Axes>"
            ]
          },
          "metadata": {
            "tags": [],
            "needs_background": "light"
          }
        },
        {
          "output_type": "stream",
          "text": [
            "\n",
            "Percent Error at x node 6\n"
          ],
          "name": "stdout"
        },
        {
          "output_type": "display_data",
          "data": {
            "image/png": "[encoded data removed]",
            "text/plain": [
              "<Figure size 216x216 with 2 Axes>"
            ]
          },
          "metadata": {
            "tags": [],
            "needs_background": "light"
          }
        },
        {
          "output_type": "stream",
          "text": [
            "\n",
            "Percent Error at x node 7\n"
          ],
          "name": "stdout"
        },
        {
          "output_type": "display_data",
          "data": {
            "image/png": "[encoded data removed]",
            "text/plain": [
              "<Figure size 216x216 with 2 Axes>"
            ]
          },
          "metadata": {
            "tags": [],
            "needs_background": "light"
          }
        },
        {
          "output_type": "stream",
          "text": [
            "\n",
            "Percent Error at x node 8\n"
          ],
          "name": "stdout"
        },
        {
          "output_type": "display_data",
          "data": {
            "image/png": "[encoded data removed]",
            "text/plain": [
              "<Figure size 216x216 with 2 Axes>"
            ]
          },
          "metadata": {
            "tags": [],
            "needs_background": "light"
          }
        },
        {
          "output_type": "stream",
          "text": [
            "\n"
          ],
          "name": "stdout"
        }
      ]
    }
  ]
}