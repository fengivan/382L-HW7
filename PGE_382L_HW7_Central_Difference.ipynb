{
  "nbformat": 4,
  "nbformat_minor": 0,
  "metadata": {
    "colab": {
      "name": "PGE 382L HW7 Central Difference.ipynb",
      "provenance": [],
      "collapsed_sections": []
    },
    "kernelspec": {
      "name": "python3",
      "display_name": "Python 3"
    },
    "language_info": {
      "name": "python"
    }
  },
  "cells": [
    {
      "cell_type": "code",
      "metadata": {
        "id": "EoQWYr2cZs9m"
      },
      "source": [
        "import sys\n",
        "import numpy as np\n",
        "import math\n",
        "import matplotlib.pyplot as plt\n",
        "import scipy as sc\n",
        "np.set_printoptions(threshold=sys.maxsize)\n",
        "np.set_printoptions(linewidth=100000)\n",
        "plt.rcParams['figure.figsize'] = [3, 3]"
      ],
      "execution_count": 26,
      "outputs": []
    },
    {
      "cell_type": "code",
      "metadata": {
        "id": "nf1Kz7IwLYu7"
      },
      "source": [
        "def U(a):  #returns a 9x9x9 array for U at time index a\n",
        "  delta=.125\n",
        "  u=np.zeros((9,9,9))\n",
        "  for x in range(0,9):\n",
        "    for y in range(0,9):\n",
        "      for z in range(0,9):\n",
        "        u[x,y,z]= getU(x,y,z,a)\n",
        "  return u\n",
        "\n",
        "def getU(i, j, k, n):     #returns U at index i, j, k , n, using deltax/y/z of .125 and deltat =of .01\n",
        "  delta=.125\n",
        "  deltat=.01\n",
        "  return 1/(1+math.exp(i*delta+j*delta+k*delta-3*n*deltat/2))\n",
        "\n",
        "def get(u, index):      #returns the value of u at index[i,j,k], if i,j,k are out of bounds return 0\n",
        "    try:\n",
        "        return u[index[0]][index[1]][index[2]]\n",
        "    except IndexError:\n",
        "        return 0\n",
        "\n",
        "def convertarray():     #makes an array to convert the row/column of matrix into the index (i,j,k) of U: row 0 of matrix is 1,1,1, row 1 is 1,1,2, row 2 is 1, 1,3 etc etc.  \n",
        "  out=np.zeros((343,3))\n",
        "  out[0]=[1,1,1]\n",
        "  for i in range(1, 343):\n",
        "    out[i]=out[i-1]\n",
        "    if out[i][2]<7:\n",
        "      out[i][2]+=1\n",
        "    elif out[i][1]<7:\n",
        "      out[i][1]+=1\n",
        "      out[i][2]=1\n",
        "    else:\n",
        "      out[i][0]+=1\n",
        "      out[i][1]=1\n",
        "      out[i][2]=1\n",
        "  return out.astype(int)\n",
        "\n",
        "def enforceboundry(u, n):   #enforces the boundry condition for u at the given time node n\n",
        "  for i in range(0,9):\n",
        "    for j in range(0,9):\n",
        "      for k in range(0,9):\n",
        "        if i ==0 or j ==0 or k ==0 or i ==8 or j ==8 or k ==8:\n",
        "          u[i][j][k]=getU(i,j,k,n)\n",
        "  return u"
      ],
      "execution_count": 27,
      "outputs": []
    },
    {
      "cell_type": "code",
      "metadata": {
        "id": "VxqOtc50_Mku"
      },
      "source": [
        "def buildJacobian(u, uprev):   #makes the Jacobian Matrix using the current guess for U and the previous value of U\n",
        "  out=convertarray()\n",
        "  \n",
        "  deltat=.01\n",
        "  deltax=.125\n",
        "  A=np.zeros((343, 343))      #343 x 343 jacobian\n",
        "  B=np.zeros((343))           #f(U) vector\n",
        "  for i in range(0, 343):\n",
        "    a=get(u, out[i]+[1,0,0])  #i+1, j, k\n",
        "    b=get(u, out[i])          #i,j,k\n",
        "    c=get(u, out[i]+[-1,0,0]) #i-1, j,k\n",
        "    d=get(u, out[i]+[0,1,0])  #i, j+1, k\n",
        "    e=get(u, out[i]+[0,-1,0]) #i, j-1, k\n",
        "    f=get(u, out[i]+[0,0,1])  #i, j, k+1\n",
        "    g=get(u, out[i]+[0,0,-1]) #i, j, k-1\n",
        "    prev=get(uprev, out[i])   #i, j, k , at n timestep\n",
        "    A[i][i]=1/deltat+(a+d+f-c-e-g)/(2*deltax) + 3/(deltax**2)\n",
        "    if (i+7<343):\n",
        "      A[i][i+7]=b/(2*deltax)-.5/(deltax**2)\n",
        "      A[i+7][i]=-b/(2*deltax)-.5/(deltax**2)\n",
        "    if (i+28<343):\n",
        "      A[i][i+28]=b/(2*deltax)-.5/(deltax**2)\n",
        "      A[i+28][i]=-b/(2*deltax)-.5/(deltax**2)\n",
        "    if (i+1<343):\n",
        "      A[i][i+1]=b/(2*deltax)-.5/(deltax**2)\n",
        "      A[i+1][i]=-b/(2*deltax)-.5/(deltax**2)\n",
        "    \n",
        "    B[i]=b/deltat-prev/deltat+b*(a+d+f-c-e-g)/(2*deltax)+.5*(6*b-a-c-d-e-f-g)/(deltax**2)\n",
        "  return A, B\n",
        "\n",
        "#print(buildJacobian(U(0), U(0))[0])"
      ],
      "execution_count": 28,
      "outputs": []
    },
    {
      "cell_type": "code",
      "metadata": {
        "id": "-v7YbP5xcsK1"
      },
      "source": [
        "def iterate(guess):     #iterates, solving jacobian*delta=b for delta, and subtracts delta from U. repeates up to 50 iterations, or until norm is <10^-10\n",
        "  out=np.copy(guess)\n",
        "  prev=np.copy(guess)\n",
        "  convert=convertarray()\n",
        "  for i in range(0,100):\n",
        "    A, B=buildJacobian(out, prev)\n",
        "    deltas=np.linalg.solve(A,B)\n",
        "    for z in range(0, len(deltas)):\n",
        "      out[convert[z][0]][convert[z][1]][convert[z][2]]-=deltas[z]\n",
        "    if (np.linalg.norm(deltas)<10**-10):\n",
        "      break\n",
        "  return out  \n"
      ],
      "execution_count": 29,
      "outputs": []
    },
    {
      "cell_type": "code",
      "metadata": {
        "colab": {
          "base_uri": "https://localhost:8080/"
        },
        "id": "02hvh_IYgvvq",
        "outputId": "7386799a-713c-4001-a263-7fce030c182f"
      },
      "source": [
        "time=0      #start at time =0\n",
        "deltat=.01\n",
        "init=U(0)   #set initial conditions\n",
        "next=enforceboundry(init, 1)  \n",
        "for i in range(0, 25):\n",
        "  next=enforceboundry(next, i+1)#enforce the boundry at time i+1\n",
        "  next=iterate(next)#iterate to solve for U at i+1\n",
        "  time=time+deltat   #increment time\n",
        "print(time)   #check tf is .25\n",
        "\n"
      ],
      "execution_count": 30,
      "outputs": [
        {
          "output_type": "stream",
          "text": [
            "0.25000000000000006\n"
          ],
          "name": "stdout"
        }
      ]
    },
    {
      "cell_type": "code",
      "metadata": {
        "colab": {
          "base_uri": "https://localhost:8080/",
          "height": 1000
        },
        "id": "NZSEubIWTKVO",
        "outputId": "4f437784-6542-4f1e-c050-e0ba4b9e7f21"
      },
      "source": [
        "error = (next-U(25))*100/U(25)   #percent error = 100*(final solution at t=.25 - exact solution) /exact solution\n",
        "print(np.linalg.norm(error)) #print norm of error\n",
        "\n",
        "for i in range(0,9):        #plot error at all 9 xnodes for visualization\n",
        "  print(\"Percent Error at x node \"+str(i))\n",
        "  plt.imshow(error[i])        #plot error\n",
        "  plt.colorbar()\n",
        "  plt.clim(0, np.max(error)) \n",
        "  plt.gca().invert_yaxis()\n",
        "  plt.show()\n",
        "  print()\n"
      ],
      "execution_count": 33,
      "outputs": [
        {
          "output_type": "stream",
          "text": [
            "0.3974692150731479\n",
            "Percent Error at x node 0\n"
          ],
          "name": "stdout"
        },
        {
          "output_type": "display_data",
          "data": {
            "image/png": "[encoded data removed]",
            "text/plain": [
              "<Figure size 216x216 with 2 Axes>"
            ]
          },
          "metadata": {
            "tags": [],
            "needs_background": "light"
          }
        },
        {
          "output_type": "stream",
          "text": [
            "\n",
            "Percent Error at x node 1\n"
          ],
          "name": "stdout"
        },
        {
          "output_type": "display_data",
          "data": {
            "image/png": "[encoded data removed]",
            "text/plain": [
              "<Figure size 216x216 with 2 Axes>"
            ]
          },
          "metadata": {
            "tags": [],
            "needs_background": "light"
          }
        },
        {
          "output_type": "stream",
          "text": [
            "\n",
            "Percent Error at x node 2\n"
          ],
          "name": "stdout"
        },
        {
          "output_type": "display_data",
          "data": {
            "image/png": "[encoded data removed]",
            "text/plain": [
              "<Figure size 216x216 with 2 Axes>"
            ]
          },
          "metadata": {
            "tags": [],
            "needs_background": "light"
          }
        },
        {
          "output_type": "stream",
          "text": [
            "\n",
            "Percent Error at x node 3\n"
          ],
          "name": "stdout"
        },
        {
          "output_type": "display_data",
          "data": {
            "image/png": "[encoded data removed]",
            "text/plain": [
              "<Figure size 216x216 with 2 Axes>"
            ]
          },
          "metadata": {
            "tags": [],
            "needs_background": "light"
          }
        },
        {
          "output_type": "stream",
          "text": [
            "\n",
            "Percent Error at x node 4\n"
          ],
          "name": "stdout"
        },
        {
          "output_type": "display_data",
          "data": {
            "image/png": "[encoded data removed]",
            "text/plain": [
              "<Figure size 216x216 with 2 Axes>"
            ]
          },
          "metadata": {
            "tags": [],
            "needs_background": "light"
          }
        },
        {
          "output_type": "stream",
          "text": [
            "\n",
            "Percent Error at x node 5\n"
          ],
          "name": "stdout"
        },
        {
          "output_type": "display_data",
          "data": {
            "image/png": "[encoded data removed]",
            "text/plain": [
              "<Figure size 216x216 with 2 Axes>"
            ]
          },
          "metadata": {
            "tags": [],
            "needs_background": "light"
          }
        },
        {
          "output_type": "stream",
          "text": [
            "\n",
            "Percent Error at x node 6\n"
          ],
          "name": "stdout"
        },
        {
          "output_type": "display_data",
          "data": {
            "image/png": "[encoded data removed]",
            "text/plain": [
              "<Figure size 216x216 with 2 Axes>"
            ]
          },
          "metadata": {
            "tags": [],
            "needs_background": "light"
          }
        },
        {
          "output_type": "stream",
          "text": [
            "\n",
            "Percent Error at x node 7\n"
          ],
          "name": "stdout"
        },
        {
          "output_type": "display_data",
          "data": {
            "image/png": "[encoded data removed]",
            "text/plain": [
              "<Figure size 216x216 with 2 Axes>"
            ]
          },
          "metadata": {
            "tags": [],
            "needs_background": "light"
          }
        },
        {
          "output_type": "stream",
          "text": [
            "\n",
            "Percent Error at x node 8\n"
          ],
          "name": "stdout"
        },
        {
          "output_type": "display_data",
          "data": {
            "image/png": "[encoded data removed]",
            "text/plain": [
              "<Figure size 216x216 with 2 Axes>"
            ]
          },
          "metadata": {
            "tags": [],
            "needs_background": "light"
          }
        },
        {
          "output_type": "stream",
          "text": [
            "\n"
          ],
          "name": "stdout"
        }
      ]
    }
  ]
}